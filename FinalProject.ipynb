{
  "nbformat": 4,
  "nbformat_minor": 0,
  "metadata": {
    "colab": {
      "name": "FinalProject.ipynb",
      "provenance": [],
      "collapsed_sections": []
    },
    "kernelspec": {
      "name": "python3",
      "display_name": "Python 3"
    },
    "language_info": {
      "name": "python"
    }
  },
  "cells": [
    {
      "cell_type": "markdown",
      "source": [
        "# Install Packages"
      ],
      "metadata": {
        "id": "x-8UGrf8heCO"
      }
    },
    {
      "cell_type": "code",
      "execution_count": null,
      "metadata": {
        "id": "ilF03JAhhW-d"
      },
      "outputs": [],
      "source": [
        "!pip install humanfriendly\n",
        "!pip install datamart-geo\n",
        "!pip install datamart-profiler\n",
        "!pip install openclean\n",
        "!pip install openclean-geo\n",
        "!pip install fuzzywuzzy"
      ]
    },
    {
      "cell_type": "markdown",
      "source": [
        "# Import Packages"
      ],
      "metadata": {
        "id": "_h3YnZWCho60"
      }
    },
    {
      "cell_type": "code",
      "source": [
        "# General\n",
        "import os\n",
        "import re\n",
        "import gzip\n",
        "import time\n",
        "import datetime\n",
        "import dateutil\n",
        "import pandas as pd\n",
        "import humanfriendly\n",
        "\n",
        "# Data Cleaning\n",
        "from fuzzywuzzy import fuzz\n",
        "import datamart_geo\n",
        "import datamart_profiler\n",
        "import openclean\n",
        "from openclean.data.source.socrata import Socrata\n",
        "from openclean import pipeline\n",
        "from openclean.profiling.column import DefaultColumnProfiler\n",
        "from openclean.function.eval.base import Eval, Col\n",
        "from openclean.function.eval.logic import And, Or\n",
        "from openclean.function.eval.null import IsEmpty\n",
        "from openclean.function.value.null import is_empty\n",
        "from openclean.data.refdata import RefStore\n",
        "from openclean_geo.address.usstreet import StandardizeUSStreetName\n",
        "from openclean.cluster.key import KeyCollision\n",
        "from openclean.function.value.key.fingerprint import Fingerprint"
      ],
      "metadata": {
        "id": "OejubSH9hpCy",
        "colab": {
          "base_uri": "https://localhost:8080/"
        },
        "outputId": "41ccf149-1c48-44a1-fbba-e00dda3026b5"
      },
      "execution_count": null,
      "outputs": [
        {
          "output_type": "stream",
          "name": "stderr",
          "text": [
            "/usr/local/lib/python3.7/dist-packages/fuzzywuzzy/fuzz.py:11: UserWarning: Using slow pure-python SequenceMatcher. Install python-Levenshtein to remove this warning\n",
            "  warnings.warn('Using slow pure-python SequenceMatcher. Install python-Levenshtein to remove this warning')\n"
          ]
        }
      ]
    },
    {
      "cell_type": "markdown",
      "source": [
        "# Mount Google Drive"
      ],
      "metadata": {
        "id": "ltQVLbqoh2Sm"
      }
    },
    {
      "cell_type": "code",
      "source": [
        "from google.colab import drive\n",
        "drive.mount('/content/drive', force_remount=True)\n",
        "#os.chdir(\"/content/drive/MyDrive/Colab Notebooks/Big Data\")"
      ],
      "metadata": {
        "colab": {
          "base_uri": "https://localhost:8080/"
        },
        "id": "-OKxwk4kh6uL",
        "outputId": "b725ec56-b5c1-4c50-d25c-c8045ff46ab9"
      },
      "execution_count": null,
      "outputs": [
        {
          "output_type": "stream",
          "name": "stdout",
          "text": [
            "Mounted at /content/drive\n"
          ]
        }
      ]
    },
    {
      "cell_type": "markdown",
      "source": [
        "# Helper Functions"
      ],
      "metadata": {
        "id": "MnOqITzqikTC"
      }
    },
    {
      "cell_type": "code",
      "source": [
        "nullVariants = set([\"NA\", \"N.A\", \"N.A.\", \"N/A\", \"PO\", \"P.O\", \"P.O.\", \"P/O\", \"NONE\", \"NULL\"])\n",
        "\n",
        "def preprocessing(sample, sampleProfile):\n",
        "    # Remove columns that are largely empty\n",
        "    columns = []\n",
        "    columnCutOffMargin = 0.6\n",
        "    for i in range(len(sampleProfile)):\n",
        "        count = (sampleProfile[i][\"stats\"][\"emptyValueCount\"]/sampleProfile[i][\"stats\"][\"totalValueCount\"])\n",
        "        if count < columnCutOffMargin: columns.append(sampleProfile[i][\"column\"])\n",
        "    sample = sample.select(columns)\n",
        "    return sample, columns\n",
        "\n",
        "def cleanName(name):\n",
        "    name = name.upper()\n",
        "    if name in nullVariants: return \"N/A\"\n",
        "    # Remove Prefixes\n",
        "    name = re.sub(r\".*\\.\", \"\", name)\n",
        "    # Remove all characters except alphabets\n",
        "    name = re.sub(\"[^A-Z ]\", \"\", name)\n",
        "    # Remove multiple spaces\n",
        "    name = re.sub(\" +\", \" \", name)\n",
        "    return \"N/A\" if is_empty(name) else name.strip()\n",
        "\n",
        "def cleanPhone(phone):\n",
        "    phone = phone.upper()\n",
        "    if phone in nullVariants or len(phone) < 10: return \"N/A\"\n",
        "    # Remove everything except digits\n",
        "    phone = re.sub(\"\\D\", \"\", phone)\n",
        "    # Take only the last ten digits\n",
        "    phone = phone[-10:]\n",
        "    return \"N/A\" if is_empty(phone) or len(phone) < 10 else phone\n",
        "\n",
        "def cleanZip(zip):\n",
        "    zip = zip.upper()\n",
        "    if zip in nullVariants or len(zip) < 5: return \"N/A\"\n",
        "    # Consider only the part before dash\n",
        "    zip = zip.split(\"-\")[0]\n",
        "    # Remove everything except digits\n",
        "    zip = re.sub(\"\\D\", \"\", zip)\n",
        "    return \"N/A\" if is_empty(zip) or len(zip) < 5 or len(zip) > 5 else zip\n",
        "\n",
        "def cleanHouseNumber(houseNumber):\n",
        "    houseNumber = houseNumber.upper()\n",
        "    if houseNumber in nullVariants: return \"N/A\"\n",
        "    # Replace all characters except digits and dash\n",
        "    houseNumber = re.sub(\"[^0-9\\-]\", \"\", houseNumber)\n",
        "    return \"N/A\" if is_empty(houseNumber) else houseNumber\n",
        "\n",
        "def cleanNumber(number):\n",
        "    number = number.upper()\n",
        "    if number in nullVariants: return \"N/A\"\n",
        "    # Remove everything except digits\n",
        "    number = re.sub(\"\\D\", \"\", number)\n",
        "    return \"N/A\" if is_empty(number) else number\n",
        "\n",
        "def cleanStreet(street):\n",
        "    if is_empty(street): return \"N/A\"\n",
        "    # Standardize the street names\n",
        "    streetStandFunction = StandardizeUSStreetName(characters='upper', alphanum=True, repeated=False)\n",
        "    street = ''.join(streetStandFunction.apply([street], threads=None))\n",
        "    return street\n",
        "\n",
        "def cleanCity(city, cityLookup):\n",
        "    return cityLookup.get(city, \"N/A\")\n",
        "\n",
        "def cleanCityUtility(sample, columnName):\n",
        "    refData = RefStore()\n",
        "    refData\\\n",
        "        .load('encyclopaedia_britannica:us_cities', auto_download=True)\\\n",
        "        .df()\\\n",
        "    # Get reference data\n",
        "    referenceCityNames = refData.load('encyclopaedia_britannica:us_cities', auto_download=True).distinct('city')\n",
        "    distinctCityNames = sample.distinct(columnName)\n",
        "    cityLookup = {}\n",
        "\n",
        "    # Compare city name to valid city names and add to lookup table if the similarity is high\n",
        "    for distinctCityName in map(lambda x: x.strip().upper(), distinctCityNames):\n",
        "        if is_empty(distinctCityName): cityLookup[distinctCityName] = \"N/A\"\n",
        "        if cityLookup.get(distinctCityName, None) != None: continue\n",
        "        if (distinctCityName == \"NYC\" or distinctCityName == \"NY\" or distinctCityName == \"N.Y.\" or fuzz.ratio(\"NY\", distinctCityName) > 70 or fuzz.ratio(\"NYC\", distinctCityName) > 70):\n",
        "            cityLookup[distinctCityName] = \"NEW YORK\"\n",
        "            continue\n",
        "        if (distinctCityName == \"BKLYN\" or distinctCityName == \"BKYN\" or fuzz.ratio(\"BKYN\", distinctCityName) > 70):\n",
        "            cityLookup[distinctCityName] = \"BROOKLYN\"\n",
        "            continue\n",
        "        flag = False\n",
        "        for referenceCityName in map(lambda x: x.upper(), referenceCityNames):\n",
        "            matchPercentage = fuzz.ratio(referenceCityName, distinctCityName)\n",
        "            if matchPercentage > 70:\n",
        "                flag = True\n",
        "                cityLookup[distinctCityName] = referenceCityName\n",
        "                break\n",
        "        if not flag: cityLookup[distinctCityName] = \"N/A\"\n",
        "    return sample.update([columnName], lambda a: cleanCity(a, cityLookup))\n",
        "\n",
        "def cleanState(state, stateRefData):\n",
        "    return state if state in stateRefData else \"N/A\"\n",
        "\n",
        "def cleanStateUtility(sample, columnName):\n",
        "    # Get refernce data\n",
        "    refData = RefStore()\n",
        "    refData\\\n",
        "        .load('nyc.gov:dof:state_codes', auto_download=True)\\\n",
        "        .df()\\\n",
        "        .head()\n",
        "    stateRefData = refData.load('nyc.gov:dof:state_codes', auto_download=True).distinct('code')\n",
        "    return sample.update([columnName], lambda a: cleanState(a, stateRefData))\n",
        "\n",
        "def cleanOther(other):\n",
        "    other = other.strip().upper()\n",
        "    return \"N/A\" if other in nullVariants or is_empty(other) else other\n",
        "\n",
        "def clean(sample, columns, sampleProfile):\n",
        "    # Remove rows that are redundant\n",
        "    columnsForRowRemoval = []\n",
        "    rowCutOffMargin = 0.1\n",
        "    for i in range(len(sampleProfile)):\n",
        "        count = (sampleProfile[i][\"stats\"][\"emptyValueCount\"]/sampleProfile[i][\"stats\"][\"totalValueCount\"])\n",
        "        if count < rowCutOffMargin and count > 0:\n",
        "            columnsForRowRemoval.append(sampleProfile[i][\"column\"])\n",
        "    for column in columnsForRowRemoval:\n",
        "        sample = sample.delete(IsEmpty(column))\n",
        "\n",
        "    # Clean the data according to different stratergies\n",
        "    for columnName in columns:\n",
        "        # Clean street related columns\n",
        "        if columnName.upper().find(\"STREET\") != -1:\n",
        "            sample = sample.update([columnName], lambda a: cleanStreet(a))\n",
        "        # Clean name related columns\n",
        "        elif columnName.upper().find(\"NAME\") != -1 and columnName.upper().find(\"BUSINESS\") == -1:\n",
        "            sample = sample.update([columnName], lambda a: cleanName(a))\n",
        "        # Clean phone related columns\n",
        "        elif columnName.upper().find(\"PHONE\") != -1 or columnName.upper().find(\"MOBILE\") != -1 or columnName.upper().find(\"TELEPHONE\") != -1:\n",
        "            sample = sample.update([columnName], lambda a: cleanPhone(a))\n",
        "        # Clean zip related columns\n",
        "        elif columnName.upper().find(\"PIN\") != -1 or columnName.upper().find(\"POST\") != -1 or columnName.upper().find(\"ZIP\") != -1:\n",
        "            sample = sample.update([columnName], lambda a: cleanZip(a))\n",
        "        # Clean house number related columns\n",
        "        elif columnName.upper().find(\"HOUSE\") != -1 and (columnName.upper().find(\"#\") != -1 or columnName.upper().find(\"NO\") != -1 or columnName.upper().find(\"NUMBER\") != -1):\n",
        "            sample = sample.update([columnName], lambda a: cleanHouseNumber(a))\n",
        "        # Clean number related columns\n",
        "        elif columnName.upper().find(\"#\") != -1 or columnName.upper().find(\"NO\") != -1 or columnName.upper().find(\"NUMBER\") != -1:\n",
        "            sample = sample.update([columnName], lambda a: cleanNumber(a))\n",
        "        # Clean city related columns\n",
        "        elif columnName.upper().find(\"CITY\") != -1:\n",
        "            sample = cleanCityUtility(sample, columnName)\n",
        "        # Clean state related columns\n",
        "        elif columnName.upper().find(\"STATE\") != -1 or columnName.upper().find(\"PROVINCE\") != -1:\n",
        "            sample = cleanStateUtility(sample, columnName)\n",
        "        # Clean all other columns\n",
        "        else:\n",
        "            sample = sample.update([columnName], lambda a: cleanOther(a))\n",
        "    return sample"
      ],
      "metadata": {
        "id": "p-EcV5BTij0f"
      },
      "execution_count": null,
      "outputs": []
    },
    {
      "cell_type": "markdown",
      "source": [
        "# Select Dataset"
      ],
      "metadata": {
        "id": "sVbiFP_316ek"
      }
    },
    {
      "cell_type": "code",
      "source": [
        "dataCode = \"ic3t-wcy2\"\n",
        "dataSet = Socrata().dataset(dataCode)\n",
        "dataFile = \"drive/MyDrive/\"+dataCode+\".tsv.gz\"\n",
        "# Download file only if it does not exist already.\n",
        "if not os.path.isfile(dataFile):\n",
        "    with gzip.open(dataFile, \"wb\") as f:\n",
        "        print(\"Downloading... \", end=\"\")\n",
        "        dataSet.write(f)\n",
        "    print(\"Done!\")\n",
        "\n",
        "fSize = humanfriendly.format_size(os.stat(dataFile).st_size)\n",
        "print(\"Using '{}' in file {} of size {}\".format(dataSet.name, dataFile, fSize))"
      ],
      "metadata": {
        "colab": {
          "base_uri": "https://localhost:8080/"
        },
        "id": "bm973kpv1559",
        "outputId": "dcb91f0f-a79d-475b-e995-c63369a37300"
      },
      "execution_count": null,
      "outputs": [
        {
          "output_type": "stream",
          "name": "stdout",
          "text": [
            "Using 'DOB Job Application Filings' in file drive/MyDrive/ic3t-wcy2.tsv.gz of size 258.19 MB\n"
          ]
        }
      ]
    },
    {
      "cell_type": "markdown",
      "source": [
        "# Set Data Stream"
      ],
      "metadata": {
        "id": "nUNDvCiXioX7"
      }
    },
    {
      "cell_type": "code",
      "source": [
        "ds = pipeline.stream(dataFile)\n",
        "print(\"The dataset has\", ds.count(), \"rows\")\n",
        "# ds.head()"
      ],
      "metadata": {
        "colab": {
          "base_uri": "https://localhost:8080/"
        },
        "id": "NHzFIc_pioeZ",
        "outputId": "10c93aa3-b6e2-406f-ef3f-a2ba6784da04"
      },
      "execution_count": null,
      "outputs": [
        {
          "output_type": "stream",
          "name": "stdout",
          "text": [
            "The dataset has 1775815 rows\n"
          ]
        }
      ]
    },
    {
      "cell_type": "markdown",
      "source": [
        "# Select a Sample from the Data"
      ],
      "metadata": {
        "id": "DQ-EMTn81TOl"
      }
    },
    {
      "cell_type": "code",
      "source": [
        "sample = ds.sample(96, 0)"
      ],
      "metadata": {
        "id": "PHLycgBJ1S0n"
      },
      "execution_count": null,
      "outputs": []
    },
    {
      "cell_type": "markdown",
      "source": [
        "# Profile the Columns"
      ],
      "metadata": {
        "id": "IzGNtj7gi_GG"
      }
    },
    {
      "cell_type": "code",
      "source": [
        "sampleProfile = sample.profile(default_profiler=DefaultColumnProfiler)\n",
        "sampleProfile.stats()"
      ],
      "metadata": {
        "colab": {
          "base_uri": "https://localhost:8080/",
          "height": 424
        },
        "id": "DMAh5fe_i-fG",
        "outputId": "8a0e120b-d7c8-4b55-ba3a-6bb02098f9d0"
      },
      "execution_count": null,
      "outputs": [
        {
          "output_type": "execute_result",
          "data": {
            "text/html": [
              "\n",
              "  <div id=\"df-f3309a46-c805-4345-9f5f-ddbe5480ecca\">\n",
              "    <div class=\"colab-df-container\">\n",
              "      <div>\n",
              "<style scoped>\n",
              "    .dataframe tbody tr th:only-of-type {\n",
              "        vertical-align: middle;\n",
              "    }\n",
              "\n",
              "    .dataframe tbody tr th {\n",
              "        vertical-align: top;\n",
              "    }\n",
              "\n",
              "    .dataframe thead th {\n",
              "        text-align: right;\n",
              "    }\n",
              "</style>\n",
              "<table border=\"1\" class=\"dataframe\">\n",
              "  <thead>\n",
              "    <tr style=\"text-align: right;\">\n",
              "      <th></th>\n",
              "      <th>total</th>\n",
              "      <th>empty</th>\n",
              "      <th>distinct</th>\n",
              "      <th>uniqueness</th>\n",
              "      <th>entropy</th>\n",
              "    </tr>\n",
              "  </thead>\n",
              "  <tbody>\n",
              "    <tr>\n",
              "      <th>Job #</th>\n",
              "      <td>96</td>\n",
              "      <td>0</td>\n",
              "      <td>96</td>\n",
              "      <td>1.000000</td>\n",
              "      <td>6.584963</td>\n",
              "    </tr>\n",
              "    <tr>\n",
              "      <th>Doc #</th>\n",
              "      <td>96</td>\n",
              "      <td>0</td>\n",
              "      <td>4</td>\n",
              "      <td>0.041667</td>\n",
              "      <td>0.739876</td>\n",
              "    </tr>\n",
              "    <tr>\n",
              "      <th>Borough</th>\n",
              "      <td>96</td>\n",
              "      <td>0</td>\n",
              "      <td>5</td>\n",
              "      <td>0.052083</td>\n",
              "      <td>1.960902</td>\n",
              "    </tr>\n",
              "    <tr>\n",
              "      <th>House #</th>\n",
              "      <td>96</td>\n",
              "      <td>0</td>\n",
              "      <td>91</td>\n",
              "      <td>0.947917</td>\n",
              "      <td>6.472932</td>\n",
              "    </tr>\n",
              "    <tr>\n",
              "      <th>Street Name</th>\n",
              "      <td>96</td>\n",
              "      <td>0</td>\n",
              "      <td>91</td>\n",
              "      <td>0.947917</td>\n",
              "      <td>6.472932</td>\n",
              "    </tr>\n",
              "    <tr>\n",
              "      <th>...</th>\n",
              "      <td>...</td>\n",
              "      <td>...</td>\n",
              "      <td>...</td>\n",
              "      <td>...</td>\n",
              "      <td>...</td>\n",
              "    </tr>\n",
              "    <tr>\n",
              "      <th>GIS_LONGITUDE</th>\n",
              "      <td>96</td>\n",
              "      <td>1</td>\n",
              "      <td>95</td>\n",
              "      <td>1.000000</td>\n",
              "      <td>6.569856</td>\n",
              "    </tr>\n",
              "    <tr>\n",
              "      <th>GIS_COUNCIL_DISTRICT</th>\n",
              "      <td>96</td>\n",
              "      <td>1</td>\n",
              "      <td>40</td>\n",
              "      <td>0.421053</td>\n",
              "      <td>4.924825</td>\n",
              "    </tr>\n",
              "    <tr>\n",
              "      <th>GIS_CENSUS_TRACT</th>\n",
              "      <td>96</td>\n",
              "      <td>1</td>\n",
              "      <td>85</td>\n",
              "      <td>0.894737</td>\n",
              "      <td>6.335491</td>\n",
              "    </tr>\n",
              "    <tr>\n",
              "      <th>GIS_NTA_NAME</th>\n",
              "      <td>96</td>\n",
              "      <td>1</td>\n",
              "      <td>61</td>\n",
              "      <td>0.642105</td>\n",
              "      <td>5.661638</td>\n",
              "    </tr>\n",
              "    <tr>\n",
              "      <th>GIS_BIN</th>\n",
              "      <td>96</td>\n",
              "      <td>1</td>\n",
              "      <td>95</td>\n",
              "      <td>1.000000</td>\n",
              "      <td>6.569856</td>\n",
              "    </tr>\n",
              "  </tbody>\n",
              "</table>\n",
              "<p>96 rows × 5 columns</p>\n",
              "</div>\n",
              "      <button class=\"colab-df-convert\" onclick=\"convertToInteractive('df-f3309a46-c805-4345-9f5f-ddbe5480ecca')\"\n",
              "              title=\"Convert this dataframe to an interactive table.\"\n",
              "              style=\"display:none;\">\n",
              "        \n",
              "  <svg xmlns=\"http://www.w3.org/2000/svg\" height=\"24px\"viewBox=\"0 0 24 24\"\n",
              "       width=\"24px\">\n",
              "    <path d=\"M0 0h24v24H0V0z\" fill=\"none\"/>\n",
              "    <path d=\"M18.56 5.44l.94 2.06.94-2.06 2.06-.94-2.06-.94-.94-2.06-.94 2.06-2.06.94zm-11 1L8.5 8.5l.94-2.06 2.06-.94-2.06-.94L8.5 2.5l-.94 2.06-2.06.94zm10 10l.94 2.06.94-2.06 2.06-.94-2.06-.94-.94-2.06-.94 2.06-2.06.94z\"/><path d=\"M17.41 7.96l-1.37-1.37c-.4-.4-.92-.59-1.43-.59-.52 0-1.04.2-1.43.59L10.3 9.45l-7.72 7.72c-.78.78-.78 2.05 0 2.83L4 21.41c.39.39.9.59 1.41.59.51 0 1.02-.2 1.41-.59l7.78-7.78 2.81-2.81c.8-.78.8-2.07 0-2.86zM5.41 20L4 18.59l7.72-7.72 1.47 1.35L5.41 20z\"/>\n",
              "  </svg>\n",
              "      </button>\n",
              "      \n",
              "  <style>\n",
              "    .colab-df-container {\n",
              "      display:flex;\n",
              "      flex-wrap:wrap;\n",
              "      gap: 12px;\n",
              "    }\n",
              "\n",
              "    .colab-df-convert {\n",
              "      background-color: #E8F0FE;\n",
              "      border: none;\n",
              "      border-radius: 50%;\n",
              "      cursor: pointer;\n",
              "      display: none;\n",
              "      fill: #1967D2;\n",
              "      height: 32px;\n",
              "      padding: 0 0 0 0;\n",
              "      width: 32px;\n",
              "    }\n",
              "\n",
              "    .colab-df-convert:hover {\n",
              "      background-color: #E2EBFA;\n",
              "      box-shadow: 0px 1px 2px rgba(60, 64, 67, 0.3), 0px 1px 3px 1px rgba(60, 64, 67, 0.15);\n",
              "      fill: #174EA6;\n",
              "    }\n",
              "\n",
              "    [theme=dark] .colab-df-convert {\n",
              "      background-color: #3B4455;\n",
              "      fill: #D2E3FC;\n",
              "    }\n",
              "\n",
              "    [theme=dark] .colab-df-convert:hover {\n",
              "      background-color: #434B5C;\n",
              "      box-shadow: 0px 1px 3px 1px rgba(0, 0, 0, 0.15);\n",
              "      filter: drop-shadow(0px 1px 2px rgba(0, 0, 0, 0.3));\n",
              "      fill: #FFFFFF;\n",
              "    }\n",
              "  </style>\n",
              "\n",
              "      <script>\n",
              "        const buttonEl =\n",
              "          document.querySelector('#df-f3309a46-c805-4345-9f5f-ddbe5480ecca button.colab-df-convert');\n",
              "        buttonEl.style.display =\n",
              "          google.colab.kernel.accessAllowed ? 'block' : 'none';\n",
              "\n",
              "        async function convertToInteractive(key) {\n",
              "          const element = document.querySelector('#df-f3309a46-c805-4345-9f5f-ddbe5480ecca');\n",
              "          const dataTable =\n",
              "            await google.colab.kernel.invokeFunction('convertToInteractive',\n",
              "                                                     [key], {});\n",
              "          if (!dataTable) return;\n",
              "\n",
              "          const docLinkHtml = 'Like what you see? Visit the ' +\n",
              "            '<a target=\"_blank\" href=https://colab.research.google.com/notebooks/data_table.ipynb>data table notebook</a>'\n",
              "            + ' to learn more about interactive tables.';\n",
              "          element.innerHTML = '';\n",
              "          dataTable['output_type'] = 'display_data';\n",
              "          await google.colab.output.renderOutput(dataTable, element);\n",
              "          const docLink = document.createElement('div');\n",
              "          docLink.innerHTML = docLinkHtml;\n",
              "          element.appendChild(docLink);\n",
              "        }\n",
              "      </script>\n",
              "    </div>\n",
              "  </div>\n",
              "  "
            ],
            "text/plain": [
              "                      total  empty  distinct  uniqueness   entropy\n",
              "Job #                    96      0        96    1.000000  6.584963\n",
              "Doc #                    96      0         4    0.041667  0.739876\n",
              "Borough                  96      0         5    0.052083  1.960902\n",
              "House #                  96      0        91    0.947917  6.472932\n",
              "Street Name              96      0        91    0.947917  6.472932\n",
              "...                     ...    ...       ...         ...       ...\n",
              "GIS_LONGITUDE            96      1        95    1.000000  6.569856\n",
              "GIS_COUNCIL_DISTRICT     96      1        40    0.421053  4.924825\n",
              "GIS_CENSUS_TRACT         96      1        85    0.894737  6.335491\n",
              "GIS_NTA_NAME             96      1        61    0.642105  5.661638\n",
              "GIS_BIN                  96      1        95    1.000000  6.569856\n",
              "\n",
              "[96 rows x 5 columns]"
            ]
          },
          "metadata": {},
          "execution_count": 23
        }
      ]
    },
    {
      "cell_type": "markdown",
      "source": [
        "# Remove Unnecessary Columns"
      ],
      "metadata": {
        "id": "IXXMvCHZ4tV8"
      }
    },
    {
      "cell_type": "code",
      "source": [
        "sample, columns = preprocessing(sample, sampleProfile)"
      ],
      "metadata": {
        "id": "fppaxDPS4teI"
      },
      "execution_count": null,
      "outputs": []
    },
    {
      "cell_type": "markdown",
      "source": [
        "# Clean the Sample"
      ],
      "metadata": {
        "id": "gMRPibOf3_9f"
      }
    },
    {
      "cell_type": "code",
      "source": [
        "cleanedSample = clean(sample, columns, sampleProfile)"
      ],
      "metadata": {
        "id": "tQhCkjnd36Gc"
      },
      "execution_count": null,
      "outputs": []
    },
    {
      "cell_type": "markdown",
      "source": [
        "# Creating Dataframe"
      ],
      "metadata": {
        "id": "O-Aq9Qtu4J_h"
      }
    },
    {
      "cell_type": "code",
      "source": [
        "dirtyDF = sample.to_df()\n",
        "cleanDF = cleanedSample.to_df()\n"
      ],
      "metadata": {
        "id": "1MAmb23B4KJ_"
      },
      "execution_count": null,
      "outputs": []
    },
    {
      "cell_type": "markdown",
      "source": [
        "# Check Functional Dependency (Street, NTA -> BOROUGH)"
      ],
      "metadata": {
        "id": "DMYMmkaGqPkD"
      }
    },
    {
      "cell_type": "code",
      "source": [
        "from openclean.operator.map.violations import fd_violations\n",
        "from openclean.operator.collector.count import distinct\n",
        "\n",
        "street_fd = \"\"\n",
        "nta_fd = \"\"\n",
        "borough_fd = \"\"\n",
        "\n",
        "for colName in columns:\n",
        "  if street_fd == \"\" and colName.upper().find(\"STREET\")!=-1:\n",
        "    street_fd = colName\n",
        "  elif nta_fd == \"\" and colName.upper().find(\"GIS_NTA\")!=-1 or colName.upper().find(\"NTA\")!=-1:\n",
        "    nta_fd = colName\n",
        "  elif borough_fd == \"\" and colName.upper().find(\"BOROUGH\")!=-1:\n",
        "    borough_fd = colName\n",
        "\n",
        "if street_fd != \"\" and nta_fd != \"\" and borough_fd != \"\":\n",
        "  fd1_violations = fd_violations(cleanDF, [street_fd, nta_fd], [borough_fd])\n",
        "\n",
        "  print('# of violations for FD(Street, NTA -> BOROUGH) is {}\\n'.format(len(fd1_violations)))\n",
        "  for key, gr in fd1_violations.items():\n",
        "      print(gr[[street_fd, nta_fd, borough_fd]])\n",
        "\n",
        "#clean manually according to result\n",
        " "
      ],
      "metadata": {
        "colab": {
          "base_uri": "https://localhost:8080/"
        },
        "id": "FlCwRJZ6rxuS",
        "outputId": "087fe931-5274-427b-95bf-984367039858"
      },
      "execution_count": null,
      "outputs": [
        {
          "output_type": "stream",
          "name": "stdout",
          "text": [
            "# of violations for FD(Street, NTA -> BOROUGH) is 0\n",
            "\n"
          ]
        }
      ]
    },
    {
      "cell_type": "markdown",
      "source": [
        "# Checking Statistical Outliers in NTA"
      ],
      "metadata": {
        "id": "r1EkOmX5zFXl"
      }
    },
    {
      "cell_type": "code",
      "source": [
        "from collections import Counter\n",
        "\n",
        "ensemble = Counter()\n",
        "\n",
        "from openclean.embedding.feature.default import UniqueSetEmbedding\n",
        "from openclean.profiling.anomalies.sklearn import (\n",
        "    dbscan,\n",
        "    isolation_forest,\n",
        "    local_outlier_factor,\n",
        "    one_class_svm,\n",
        "    robust_covariance\n",
        ")\n",
        "if nta_fd != \"\":\n",
        "  for f in [dbscan, isolation_forest, local_outlier_factor, one_class_svm, robust_covariance]:\n",
        "      ensemble.update(f(cleanDF, nta_fd, features=UniqueSetEmbedding()))\n",
        "\n",
        "  prev = 0\n",
        "  for value, count in ensemble.most_common():\n",
        "      if count < 3:\n",
        "          break\n",
        "      if count < prev:\n",
        "          print()\n",
        "      if count != prev:\n",
        "          print('{}\\t{}'.format(count, value))\n",
        "      else:\n",
        "          print('\\t{}'.format(value))\n",
        "      prev = count\n",
        "\n",
        "#clean manually according to result"
      ],
      "metadata": {
        "colab": {
          "base_uri": "https://localhost:8080/"
        },
        "id": "1Zbv8MmXtHxO",
        "outputId": "5b339fe4-c191-4ca5-ed30-54b927c9adfd"
      },
      "execution_count": null,
      "outputs": [
        {
          "output_type": "stream",
          "name": "stdout",
          "text": [
            "3\t0\n"
          ]
        },
        {
          "output_type": "stream",
          "name": "stderr",
          "text": [
            "/usr/local/lib/python3.7/dist-packages/sklearn/neighbors/_lof.py:268: UserWarning: n_neighbors (20) is greater than the total number of samples (5). n_neighbors will be set to (n_samples - 1) for estimation.\n",
            "  % (self.n_neighbors, n_samples))\n",
            "/usr/local/lib/python3.7/dist-packages/sklearn/covariance/_robust_covariance.py:647: UserWarning: The covariance matrix associated to your dataset is not full rank\n",
            "  warnings.warn(\"The covariance matrix associated to your dataset \"\n"
          ]
        }
      ]
    },
    {
      "cell_type": "code",
      "source": [
        "from google.colab import drive\n",
        "drive.mount('/content/drive')"
      ],
      "metadata": {
        "colab": {
          "base_uri": "https://localhost:8080/"
        },
        "id": "-op-AmUx2TZ0",
        "outputId": "ef31a3b8-429d-4203-e7e6-e054b7ae980c"
      },
      "execution_count": null,
      "outputs": [
        {
          "output_type": "stream",
          "name": "stdout",
          "text": [
            "Drive already mounted at /content/drive; to attempt to forcibly remount, call drive.mount(\"/content/drive\", force_remount=True).\n"
          ]
        }
      ]
    },
    {
      "cell_type": "markdown",
      "source": [
        "# Save the clean Output"
      ],
      "metadata": {
        "id": "H-Sf1H_Ly4AD"
      }
    },
    {
      "cell_type": "code",
      "source": [
        "if not os.path.exists(dataSet.name): os.makedirs(dataSet.name)\n",
        "dirtyDF.to_csv(\"./\"+dataSet.name+\"/dirtySample.csv\")\n",
        "cleanDF.to_csv(\"./\"+dataSet.name+\"/cleanSample.csv\")"
      ],
      "metadata": {
        "id": "r-ECSRD9xdNL"
      },
      "execution_count": null,
      "outputs": []
    },
    {
      "cell_type": "code",
      "source": [
        ""
      ],
      "metadata": {
        "id": "3HRLrwTNIa-n"
      },
      "execution_count": null,
      "outputs": []
    }
  ]
}